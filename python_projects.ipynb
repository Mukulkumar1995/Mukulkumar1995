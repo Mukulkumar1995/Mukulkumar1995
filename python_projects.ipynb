{
 "cells": [
  {
   "cell_type": "code",
   "execution_count": 1,
   "id": "35f76d16",
   "metadata": {},
   "outputs": [
    {
     "name": "stdout",
     "output_type": "stream",
     "text": [
      "Requirement already satisfied: instabot in c:\\users\\aryaw\\anaconda3\\lib\\site-packages (0.117.0)\n",
      "Requirement already satisfied: Pillow>=6.2.2 in c:\\users\\aryaw\\anaconda3\\lib\\site-packages (from instabot) (9.0.1)\n",
      "Requirement already satisfied: mock>=3.0.5 in c:\\users\\aryaw\\anaconda3\\lib\\site-packages (from instabot) (4.0.3)\n",
      "Requirement already satisfied: pysocks>=1.7.1 in c:\\users\\aryaw\\anaconda3\\lib\\site-packages (from instabot) (1.7.1)\n",
      "Requirement already satisfied: tqdm>=4.41.1 in c:\\users\\aryaw\\anaconda3\\lib\\site-packages (from instabot) (4.64.0)\n",
      "Requirement already satisfied: urllib3>=1.25.7 in c:\\users\\aryaw\\anaconda3\\lib\\site-packages (from instabot) (1.26.9)\n",
      "Requirement already satisfied: six>=1.14.0 in c:\\users\\aryaw\\anaconda3\\lib\\site-packages (from instabot) (1.16.0)\n",
      "Requirement already satisfied: schedule>=0.6.0 in c:\\users\\aryaw\\anaconda3\\lib\\site-packages (from instabot) (1.2.0)\n",
      "Requirement already satisfied: idna>=2.8 in c:\\users\\aryaw\\anaconda3\\lib\\site-packages (from instabot) (3.3)\n",
      "Requirement already satisfied: certifi>=2019.11.28 in c:\\users\\aryaw\\anaconda3\\lib\\site-packages (from instabot) (2021.10.8)\n",
      "Requirement already satisfied: pytz>=2019.3 in c:\\users\\aryaw\\anaconda3\\lib\\site-packages (from instabot) (2021.3)\n",
      "Requirement already satisfied: chardet>=3.0.4 in c:\\users\\aryaw\\anaconda3\\lib\\site-packages (from instabot) (4.0.0)\n",
      "Requirement already satisfied: requests>=2.22.0 in c:\\users\\aryaw\\anaconda3\\lib\\site-packages (from instabot) (2.27.1)\n",
      "Requirement already satisfied: requests-toolbelt>=0.9.1 in c:\\users\\aryaw\\anaconda3\\lib\\site-packages (from instabot) (0.10.1)\n",
      "Requirement already satisfied: responses>=0.10.9 in c:\\users\\aryaw\\anaconda3\\lib\\site-packages (from instabot) (0.23.1)\n",
      "Requirement already satisfied: moviepy>=1.0.1 in c:\\users\\aryaw\\anaconda3\\lib\\site-packages (from instabot) (1.0.3)\n",
      "Requirement already satisfied: pytest>=4.6.9 in c:\\users\\aryaw\\anaconda3\\lib\\site-packages (from instabot) (7.1.1)\n",
      "Requirement already satisfied: huepy>=1.2.1 in c:\\users\\aryaw\\anaconda3\\lib\\site-packages (from instabot) (1.2.1)\n",
      "Requirement already satisfied: future>=0.18.2 in c:\\users\\aryaw\\anaconda3\\lib\\site-packages (from instabot) (0.18.2)\n",
      "Requirement already satisfied: imageio-ffmpeg>=0.2.0 in c:\\users\\aryaw\\anaconda3\\lib\\site-packages (from moviepy>=1.0.1->instabot) (0.4.8)\n",
      "Requirement already satisfied: decorator<5.0,>=4.0.2 in c:\\users\\aryaw\\anaconda3\\lib\\site-packages (from moviepy>=1.0.1->instabot) (4.4.2)\n",
      "Requirement already satisfied: imageio<3.0,>=2.5 in c:\\users\\aryaw\\anaconda3\\lib\\site-packages (from moviepy>=1.0.1->instabot) (2.9.0)\n",
      "Requirement already satisfied: numpy in c:\\users\\aryaw\\anaconda3\\lib\\site-packages (from moviepy>=1.0.1->instabot) (1.21.5)\n",
      "Requirement already satisfied: proglog<=1.0.0 in c:\\users\\aryaw\\anaconda3\\lib\\site-packages (from moviepy>=1.0.1->instabot) (0.1.10)\n",
      "Requirement already satisfied: attrs>=19.2.0 in c:\\users\\aryaw\\anaconda3\\lib\\site-packages (from pytest>=4.6.9->instabot) (21.4.0)\n",
      "Requirement already satisfied: iniconfig in c:\\users\\aryaw\\anaconda3\\lib\\site-packages (from pytest>=4.6.9->instabot) (1.1.1)\n",
      "Requirement already satisfied: packaging in c:\\users\\aryaw\\anaconda3\\lib\\site-packages (from pytest>=4.6.9->instabot) (21.3)\n",
      "Requirement already satisfied: pluggy<2.0,>=0.12 in c:\\users\\aryaw\\anaconda3\\lib\\site-packages (from pytest>=4.6.9->instabot) (1.0.0)\n",
      "Requirement already satisfied: py>=1.8.2 in c:\\users\\aryaw\\anaconda3\\lib\\site-packages (from pytest>=4.6.9->instabot) (1.11.0)\n",
      "Requirement already satisfied: tomli>=1.0.0 in c:\\users\\aryaw\\anaconda3\\lib\\site-packages (from pytest>=4.6.9->instabot) (1.2.2)\n",
      "Requirement already satisfied: atomicwrites>=1.0 in c:\\users\\aryaw\\anaconda3\\lib\\site-packages (from pytest>=4.6.9->instabot) (1.4.0)\n",
      "Requirement already satisfied: colorama in c:\\users\\aryaw\\anaconda3\\lib\\site-packages (from pytest>=4.6.9->instabot) (0.4.4)\n",
      "Requirement already satisfied: charset-normalizer~=2.0.0 in c:\\users\\aryaw\\anaconda3\\lib\\site-packages (from requests>=2.22.0->instabot) (2.0.4)\n",
      "Requirement already satisfied: pyyaml in c:\\users\\aryaw\\anaconda3\\lib\\site-packages (from responses>=0.10.9->instabot) (6.0)\n",
      "Requirement already satisfied: types-PyYAML in c:\\users\\aryaw\\anaconda3\\lib\\site-packages (from responses>=0.10.9->instabot) (6.0.12.9)\n",
      "Requirement already satisfied: pyparsing!=3.0.5,>=2.0.2 in c:\\users\\aryaw\\anaconda3\\lib\\site-packages (from packaging->pytest>=4.6.9->instabot) (3.0.4)\n",
      "Note: you may need to restart the kernel to use updated packages.\n"
     ]
    }
   ],
   "source": [
    "pip install instabot"
   ]
  },
  {
   "cell_type": "code",
   "execution_count": 13,
   "id": "2f24cbf0",
   "metadata": {},
   "outputs": [
    {
     "ename": "SyntaxError",
     "evalue": "EOL while scanning string literal (658747708.py, line 3)",
     "output_type": "error",
     "traceback": [
      "\u001b[1;36m  Input \u001b[1;32mIn [13]\u001b[1;36m\u001b[0m\n\u001b[1;33m    bot.login(username=\"\u001b[0m\n\u001b[1;37m                        ^\u001b[0m\n\u001b[1;31mSyntaxError\u001b[0m\u001b[1;31m:\u001b[0m EOL while scanning string literal\n"
     ]
    }
   ],
   "source": [
    "from instabot import Bot\n",
    "bot=Bot()\n",
    "bot.login(username=\"\n",
    "mukuljha805\",password=\"Mukul@1997\")\n",
    "bot.follow(\"sadhguru\n",
    "\")\n",
    "bot.upload_photo(\"D:/download/whatsapp\",caption=\"i love coding\")"
   ]
  },
  {
   "cell_type": "code",
   "execution_count": 15,
   "id": "8ee23d3b",
   "metadata": {},
   "outputs": [
    {
     "name": "stdout",
     "output_type": "stream",
     "text": [
      "Note: you may need to restart the kernel to use updated packages.\n"
     ]
    },
    {
     "name": "stderr",
     "output_type": "stream",
     "text": [
      "ERROR: Could not find a version that satisfies the requirement smtplib (from versions: none)\n",
      "ERROR: No matching distribution found for smtplib\n"
     ]
    }
   ],
   "source": [
    "pip install smtplib"
   ]
  },
  {
   "cell_type": "code",
   "execution_count": 17,
   "id": "3d7c391b",
   "metadata": {},
   "outputs": [
    {
     "name": "stdout",
     "output_type": "stream",
     "text": [
      "Collecting PyAutoGUI\n",
      "  Using cached PyAutoGUI-0.9.53.tar.gz (59 kB)\n",
      "Collecting pymsgbox\n",
      "  Using cached PyMsgBox-1.0.9.tar.gz (18 kB)\n",
      "  Installing build dependencies: started\n",
      "  Installing build dependencies: finished with status 'done'\n",
      "  Getting requirements to build wheel: started\n",
      "  Getting requirements to build wheel: finished with status 'done'\n",
      "    Preparing wheel metadata: started\n",
      "    Preparing wheel metadata: finished with status 'done'\n",
      "Collecting PyTweening>=1.0.1\n",
      "  Using cached pytweening-1.0.5.tar.gz (168 kB)\n",
      "  Installing build dependencies: started\n",
      "  Installing build dependencies: finished with status 'done'\n",
      "  Getting requirements to build wheel: started\n",
      "  Getting requirements to build wheel: finished with status 'done'\n",
      "  Installing backend dependencies: started\n",
      "  Installing backend dependencies: finished with status 'done'\n",
      "    Preparing wheel metadata: started\n",
      "    Preparing wheel metadata: finished with status 'done'\n",
      "Collecting pyscreeze>=0.1.21\n",
      "  Using cached PyScreeze-0.1.28.tar.gz (25 kB)\n",
      "  Installing build dependencies: started\n",
      "  Installing build dependencies: finished with status 'done'\n",
      "  Getting requirements to build wheel: started\n",
      "  Getting requirements to build wheel: finished with status 'done'\n",
      "    Preparing wheel metadata: started\n",
      "    Preparing wheel metadata: finished with status 'done'\n",
      "Collecting pygetwindow>=0.0.5\n",
      "  Using cached PyGetWindow-0.0.9.tar.gz (9.7 kB)\n",
      "Collecting mouseinfo\n",
      "  Using cached MouseInfo-0.1.3.tar.gz (10 kB)\n",
      "Collecting pyrect\n",
      "  Using cached PyRect-0.2.0.tar.gz (17 kB)\n",
      "Collecting pyperclip\n",
      "  Using cached pyperclip-1.8.2.tar.gz (20 kB)\n",
      "Building wheels for collected packages: PyAutoGUI, pygetwindow, pyscreeze, PyTweening, mouseinfo, pymsgbox, pyperclip, pyrect\n",
      "  Building wheel for PyAutoGUI (setup.py): started\n",
      "  Building wheel for PyAutoGUI (setup.py): finished with status 'done'\n",
      "  Created wheel for PyAutoGUI: filename=PyAutoGUI-0.9.53-py3-none-any.whl size=36614 sha256=c2f02a197d7656d7741fcfca8a79bef0b0ea7e20c49d13e138bc1205a9a6137c\n",
      "  Stored in directory: c:\\users\\aryaw\\appdata\\local\\pip\\cache\\wheels\\d8\\97\\e4\\d2edca92a87d3b5fbfb527264750a17b4ba297b9a7cab6e67f\n",
      "  Building wheel for pygetwindow (setup.py): started\n",
      "  Building wheel for pygetwindow (setup.py): finished with status 'done'\n",
      "  Created wheel for pygetwindow: filename=PyGetWindow-0.0.9-py3-none-any.whl size=11081 sha256=11a93270a7507788bdc599da627f9f8ae630f2aa0adf9cb12ff30f95832f695f\n",
      "  Stored in directory: c:\\users\\aryaw\\appdata\\local\\pip\\cache\\wheels\\44\\ab\\20\\423c3a444793767e4e41f8377bc902f77bee212e68dcce85a5\n",
      "  Building wheel for pyscreeze (PEP 517): started\n",
      "  Building wheel for pyscreeze (PEP 517): finished with status 'done'\n",
      "  Created wheel for pyscreeze: filename=PyScreeze-0.1.28-py3-none-any.whl size=13026 sha256=9171cb1eb69d790f5d579155778fcc040dd37f0219fca73489feaae387954c41\n",
      "  Stored in directory: c:\\users\\aryaw\\appdata\\local\\pip\\cache\\wheels\\a2\\5b\\86\\99f1d8fac5d92de0ccb3f0d4ad15e3f4278baf75a9b0f20b93\n",
      "  Building wheel for PyTweening (PEP 517): started\n",
      "  Building wheel for PyTweening (PEP 517): finished with status 'done'\n",
      "  Created wheel for PyTweening: filename=pytweening-1.0.5-py3-none-any.whl size=6864 sha256=b816874d9098ca61def09209270288e11b5c50a9c2a3c1f95d4ce6442211d7e7\n",
      "  Stored in directory: c:\\users\\aryaw\\appdata\\local\\pip\\cache\\wheels\\f2\\11\\58\\778dff766bdaf150afba3611e19eec578fd540ae214327d171\n",
      "  Building wheel for mouseinfo (setup.py): started\n",
      "  Building wheel for mouseinfo (setup.py): finished with status 'done'\n",
      "  Created wheel for mouseinfo: filename=MouseInfo-0.1.3-py3-none-any.whl size=10906 sha256=ffcee49a4997b011c5a3ee40514b0b618b8836516dfc36721e7d73e226874966\n",
      "  Stored in directory: c:\\users\\aryaw\\appdata\\local\\pip\\cache\\wheels\\61\\73\\b9\\6fb1131ab36e650206e3aa0ad7a68907b41b32ac2d4f75f543\n",
      "  Building wheel for pymsgbox (PEP 517): started\n",
      "  Building wheel for pymsgbox (PEP 517): finished with status 'done'\n",
      "  Created wheel for pymsgbox: filename=PyMsgBox-1.0.9-py3-none-any.whl size=7417 sha256=4bd5094ae03f279b3b0c4218399c3b4960eaef006b85829d24c1f168e6fd83cf\n",
      "  Stored in directory: c:\\users\\aryaw\\appdata\\local\\pip\\cache\\wheels\\7f\\13\\8c\\584c519464297d9637f9cd29fd1dcdf55e2a2cab225c76a2db\n",
      "  Building wheel for pyperclip (setup.py): started\n",
      "  Building wheel for pyperclip (setup.py): finished with status 'done'\n",
      "  Created wheel for pyperclip: filename=pyperclip-1.8.2-py3-none-any.whl size=11137 sha256=e86a3b9454dfc0312332e9f3692df22342c74c04d9ff7104f34e90004cbafac2\n",
      "  Stored in directory: c:\\users\\aryaw\\appdata\\local\\pip\\cache\\wheels\\0c\\09\\9e\\49e21a6840ef7955b06d47394afef0058f0378c0914e48b8b8\n",
      "  Building wheel for pyrect (setup.py): started\n",
      "  Building wheel for pyrect (setup.py): finished with status 'done'\n",
      "  Created wheel for pyrect: filename=PyRect-0.2.0-py2.py3-none-any.whl size=11196 sha256=7a1db4f253fae012eb28cba9863af186786a79913094537de0ff6caa53479869\n",
      "  Stored in directory: c:\\users\\aryaw\\appdata\\local\\pip\\cache\\wheels\\25\\80\\fa\\27bb4a1c2e21f64ec71390489d52e57b7cc8afbe79bd595c5e\n",
      "Successfully built PyAutoGUI pygetwindow pyscreeze PyTweening mouseinfo pymsgbox pyperclip pyrect\n",
      "Installing collected packages: pyrect, pyperclip, PyTweening, pyscreeze, pymsgbox, pygetwindow, mouseinfo, PyAutoGUI\n",
      "Successfully installed PyAutoGUI-0.9.53 PyTweening-1.0.5 mouseinfo-0.1.3 pygetwindow-0.0.9 pymsgbox-1.0.9 pyperclip-1.8.2 pyrect-0.2.0 pyscreeze-0.1.28\n",
      "Note: you may need to restart the kernel to use updated packages.\n"
     ]
    }
   ],
   "source": [
    "pip install PyAutoGUI"
   ]
  },
  {
   "cell_type": "code",
   "execution_count": 18,
   "id": "fb6dd90c",
   "metadata": {},
   "outputs": [],
   "source": [
    "import pyautogui"
   ]
  },
  {
   "cell_type": "code",
   "execution_count": 21,
   "id": "bc1e3221",
   "metadata": {},
   "outputs": [],
   "source": [
    "ss=pyautogui.screenshot()\n",
    "ss.save(\"test1.png\")"
   ]
  },
  {
   "cell_type": "code",
   "execution_count": 23,
   "id": "331deb58",
   "metadata": {},
   "outputs": [
    {
     "ename": "NameError",
     "evalue": "name 'path' is not defined",
     "output_type": "error",
     "traceback": [
      "\u001b[1;31m---------------------------------------------------------------------------\u001b[0m",
      "\u001b[1;31mNameError\u001b[0m                                 Traceback (most recent call last)",
      "Input \u001b[1;32mIn [23]\u001b[0m, in \u001b[0;36m<cell line: 8>\u001b[1;34m()\u001b[0m\n\u001b[0;32m      6\u001b[0m     \u001b[38;5;28mprint\u001b[39m(path)\n\u001b[0;32m      7\u001b[0m ss\u001b[38;5;241m=\u001b[39mpyautogui\u001b[38;5;241m.\u001b[39mscreenshot()\n\u001b[1;32m----> 8\u001b[0m ss\u001b[38;5;241m.\u001b[39msave(\u001b[43mpath\u001b[49m)\n\u001b[0;32m      9\u001b[0m win\u001b[38;5;241m=\u001b[39mTk()\n\u001b[0;32m     10\u001b[0m win\u001b[38;5;241m.\u001b[39mtitle(\u001b[38;5;124m\"\u001b[39m\u001b[38;5;124mwscube tech ss\u001b[39m\u001b[38;5;124m\"\u001b[39m)\n",
      "\u001b[1;31mNameError\u001b[0m: name 'path' is not defined"
     ]
    }
   ],
   "source": [
    "import pyautogui\n",
    "from tkinter import *\n",
    "def take_ss():\n",
    "    add_data=entry.get()\n",
    "    path=add_data+\"\\\\test12.png\"\n",
    "    print(path)\n",
    "ss=pyautogui.screenshot()\n",
    "ss.save(path)\n",
    "win=Tk()\n",
    "win.title(\"wscube tech ss\")\n",
    "win.geometry(\"700*400\")\n",
    "win.config(bg=\"yellow\")\n",
    "win.resizable(False,False)\n",
    "entry=Entry(win,Font=('Time New Roman',30))\n",
    "entry.place(x=20,height=100,width=460,y=50)\n",
    "button=Button(win, text=\"Done\",Font=('Time New Roman',50))\n",
    "button.Place(x=100,y=100,height=100,width=200)\n",
    "win.mainloop()"
   ]
  },
  {
   "cell_type": "code",
   "execution_count": 24,
   "id": "63688e34",
   "metadata": {},
   "outputs": [],
   "source": [
    "import pyautogui\n",
    "ss=pyautogui.screenshot()\n",
    "ss.save(\"test1.png\")"
   ]
  },
  {
   "cell_type": "code",
   "execution_count": null,
   "id": "7279d9cc",
   "metadata": {},
   "outputs": [],
   "source": []
  }
 ],
 "metadata": {
  "kernelspec": {
   "display_name": "Python 3 (ipykernel)",
   "language": "python",
   "name": "python3"
  },
  "language_info": {
   "codemirror_mode": {
    "name": "ipython",
    "version": 3
   },
   "file_extension": ".py",
   "mimetype": "text/x-python",
   "name": "python",
   "nbconvert_exporter": "python",
   "pygments_lexer": "ipython3",
   "version": "3.9.12"
  }
 },
 "nbformat": 4,
 "nbformat_minor": 5
}
